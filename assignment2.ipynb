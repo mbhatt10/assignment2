{
 "cells": [
  {
   "cell_type": "markdown",
   "id": "c5d0a322-2d78-4c5d-b89b-ac4b2e919eb3",
   "metadata": {},
   "source": [
    "#1, Calc$late the s$m, difference, prod$ct, and q$otient of two n$mbers."
   ]
  },
  {
   "cell_type": "code",
   "execution_count": 1,
   "id": "bda0a323-ec96-47f1-a84c-5a9815311cd0",
   "metadata": {},
   "outputs": [
    {
     "name": "stdout",
     "output_type": "stream",
     "text": [
      "60\n"
     ]
    }
   ],
   "source": [
    "#calculate the sum \n",
    "a = 40\n",
    "b = 20\n",
    "c = a+b\n",
    "print(c)\n",
    "\n"
   ]
  },
  {
   "cell_type": "code",
   "execution_count": 2,
   "id": "3910f6eb-0092-4a12-9bca-c9a8b1aa96e0",
   "metadata": {},
   "outputs": [
    {
     "name": "stdout",
     "output_type": "stream",
     "text": [
      "20\n"
     ]
    }
   ],
   "source": [
    "#Differnce \n",
    "d= a-b\n",
    "print (d)"
   ]
  },
  {
   "cell_type": "code",
   "execution_count": 3,
   "id": "e9b5ab9f-6316-4301-93ea-6a92b92a9eca",
   "metadata": {},
   "outputs": [
    {
     "name": "stdout",
     "output_type": "stream",
     "text": [
      "800\n"
     ]
    }
   ],
   "source": [
    "# total product \n",
    "e = a*b\n",
    "print (e)"
   ]
  },
  {
   "cell_type": "code",
   "execution_count": 4,
   "id": "b1312db2-45b0-4866-a7b0-e1d96fe86859",
   "metadata": {},
   "outputs": [
    {
     "name": "stdout",
     "output_type": "stream",
     "text": [
      "2.0\n"
     ]
    }
   ],
   "source": [
    "#quotient \n",
    "f = a/b\n",
    "print (f)"
   ]
  },
  {
   "cell_type": "markdown",
   "id": "0e65a7a2-2d72-481c-b417-9ceb477d0c23",
   "metadata": {},
   "source": [
    "#2 Perform Various assignment operations on a Variable."
   ]
  },
  {
   "cell_type": "code",
   "execution_count": 6,
   "id": "69009eec-8734-4fae-b2d4-1ffcc431086c",
   "metadata": {},
   "outputs": [
    {
     "name": "stdout",
     "output_type": "stream",
     "text": [
      "60\n"
     ]
    }
   ],
   "source": [
    "#addtition\n",
    "a= 50\n",
    "b = 10\n",
    "c = a+b\n",
    "print (c)"
   ]
  },
  {
   "cell_type": "code",
   "execution_count": 7,
   "id": "bd4fb95d-2778-45d9-8ca6-2f898e9f605d",
   "metadata": {},
   "outputs": [
    {
     "name": "stdout",
     "output_type": "stream",
     "text": [
      "40\n"
     ]
    }
   ],
   "source": [
    "#subs\n",
    "a= 50\n",
    "b = 10\n",
    "c = a-b\n",
    "print (c)"
   ]
  },
  {
   "cell_type": "code",
   "execution_count": 8,
   "id": "310810c3-1d4f-4409-9964-77475f45bf93",
   "metadata": {},
   "outputs": [
    {
     "name": "stdout",
     "output_type": "stream",
     "text": [
      "500\n"
     ]
    }
   ],
   "source": [
    "#multiply\n",
    "a= 50\n",
    "b = 10\n",
    "c = a*b\n",
    "print (c)"
   ]
  },
  {
   "cell_type": "code",
   "execution_count": 9,
   "id": "524067f3-c8a3-484c-aefc-21713591962a",
   "metadata": {},
   "outputs": [
    {
     "name": "stdout",
     "output_type": "stream",
     "text": [
      "5.0\n"
     ]
    }
   ],
   "source": [
    "#Division \n",
    "a= 50\n",
    "b = 10\n",
    "c = a/b\n",
    "print (c)"
   ]
  },
  {
   "cell_type": "code",
   "execution_count": 10,
   "id": "f8d82b80-f73f-471e-8ecb-c95b4f562e55",
   "metadata": {},
   "outputs": [
    {
     "name": "stdout",
     "output_type": "stream",
     "text": [
      "0\n"
     ]
    }
   ],
   "source": [
    "#Modulus \n",
    "a= 50\n",
    "b = 10\n",
    "c = a%b\n",
    "print (c)"
   ]
  },
  {
   "cell_type": "code",
   "execution_count": 11,
   "id": "c994deb4-b18a-46ac-a00f-39618b459011",
   "metadata": {},
   "outputs": [
    {
     "name": "stdout",
     "output_type": "stream",
     "text": [
      "97656250000000000\n"
     ]
    }
   ],
   "source": [
    "#Exponentiation \n",
    "a= 50\n",
    "b = 10\n",
    "c = a**b\n",
    "print (c)"
   ]
  },
  {
   "cell_type": "code",
   "execution_count": 12,
   "id": "62019304-845b-4b39-9474-3a212e79449b",
   "metadata": {},
   "outputs": [
    {
     "name": "stdout",
     "output_type": "stream",
     "text": [
      "5\n"
     ]
    }
   ],
   "source": [
    "#Floor division \n",
    "a= 50\n",
    "b = 10\n",
    "c = a//b\n",
    "print (c)"
   ]
  },
  {
   "cell_type": "markdown",
   "id": "3d3ac354-99aa-45a2-87e8-d4233b148168",
   "metadata": {},
   "source": [
    "##3 Compare two n$mbers and print the res$lts."
   ]
  },
  {
   "cell_type": "code",
   "execution_count": 13,
   "id": "3492ddd9-dbf4-4d55-b271-da8e36754116",
   "metadata": {},
   "outputs": [
    {
     "name": "stdout",
     "output_type": "stream",
     "text": [
      "A value is bigger than B\n"
     ]
    }
   ],
   "source": [
    "a = 10\n",
    "b = 7\n",
    "if a > b :\n",
    "    print (\"A value is bigger than B\")\n",
    "else:\n",
    "    print (\"B is bigger than A\")\n",
    "\n"
   ]
  },
  {
   "cell_type": "markdown",
   "id": "79652bc0-f05a-4ef3-8ec2-dd9c461f7af5",
   "metadata": {},
   "source": [
    "#3 Check conditions $sing logical operators."
   ]
  },
  {
   "cell_type": "code",
   "execution_count": 14,
   "id": "cb61e1a4-7772-4148-9a01-ffe90bb4b2b4",
   "metadata": {},
   "outputs": [
    {
     "name": "stdout",
     "output_type": "stream",
     "text": [
      "B is bigger than A\n"
     ]
    }
   ],
   "source": [
    "a = 10\n",
    "b = 70\n",
    "if a > b and  a>=10 :\n",
    "    print (\"A value is bigger than B\")\n",
    "else:\n",
    "    print (\"B is bigger than A\")"
   ]
  },
  {
   "cell_type": "markdown",
   "id": "e3a4bc2f-7d08-4e53-95f2-a4c014b333de",
   "metadata": {},
   "source": [
    "#4 Check the identity of @ariables."
   ]
  },
  {
   "cell_type": "code",
   "execution_count": null,
   "id": "aa26c5db-f166-452c-a7bb-29f68ca17b84",
   "metadata": {},
   "outputs": [
    {
     "name": "stdout",
     "output_type": "stream",
     "text": [
      "a and b have different identities\n"
     ]
    }
   ],
   "source": [
    "a = [1, 2, 3]\n",
    "b = [1, 2, 3]\n",
    "if id(a) == id(b):\n",
    "    print(\"a and b have the same identity\")\n",
    "else:\n",
    "    print(\"a and b have different identities\")"
   ]
  },
  {
   "cell_type": "markdown",
   "id": "929b0be5-160a-401c-a9cd-78d2c410752d",
   "metadata": {},
   "source": [
    "#«, Perform bitwise operations on any two integers."
   ]
  },
  {
   "cell_type": "code",
   "execution_count": 16,
   "id": "71c391cc-fe5b-4aeb-8899-e4d0c64af5b4",
   "metadata": {},
   "outputs": [
    {
     "name": "stdout",
     "output_type": "stream",
     "text": [
      "Bitwise AND: 2\n"
     ]
    }
   ],
   "source": [
    "a = 10\n",
    "b = 6\n",
    "result_and = a & b\n",
    "print(\"Bitwise AND:\", result_and)"
   ]
  },
  {
   "cell_type": "code",
   "execution_count": 17,
   "id": "a4f4ecdf-8047-45d7-b45b-3fc27f0de3f1",
   "metadata": {},
   "outputs": [
    {
     "name": "stdout",
     "output_type": "stream",
     "text": [
      "Original a: 10\n",
      "a with changed sign: -10\n"
     ]
    }
   ],
   "source": [
    "a = 10\n",
    "b = -a\n",
    "print(\"Original a:\", a)\n",
    "print(\"a with changed sign:\", b)"
   ]
  },
  {
   "cell_type": "markdown",
   "id": "83a1cb37-7198-4636-8a53-2b4ce866e536",
   "metadata": {},
   "source": [
    "#8, Use the ternary operator to assign @al$es based on conditions."
   ]
  },
  {
   "cell_type": "code",
   "execution_count": 19,
   "id": "6478aab5-c081-41ec-90f5-9f8d30715ca9",
   "metadata": {},
   "outputs": [
    {
     "name": "stdout",
     "output_type": "stream",
     "text": [
      "Condition is True\n"
     ]
    }
   ],
   "source": [
    "a = True\n",
    "b = \"Condition is True\" if a else \"Condition is False\"\n",
    "print(b)\n"
   ]
  },
  {
   "cell_type": "code",
   "execution_count": null,
   "id": "2456fda6-5435-41fc-99e8-b617569b55cd",
   "metadata": {},
   "outputs": [],
   "source": []
  }
 ],
 "metadata": {
  "kernelspec": {
   "display_name": "Python 3 (ipykernel)",
   "language": "python",
   "name": "python3"
  },
  "language_info": {
   "codemirror_mode": {
    "name": "ipython",
    "version": 3
   },
   "file_extension": ".py",
   "mimetype": "text/x-python",
   "name": "python",
   "nbconvert_exporter": "python",
   "pygments_lexer": "ipython3",
   "version": "3.10.8"
  }
 },
 "nbformat": 4,
 "nbformat_minor": 5
}
